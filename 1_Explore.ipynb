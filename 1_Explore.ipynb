{
 "cells": [
  {
   "cell_type": "markdown",
   "metadata": {},
   "source": [
    "# Data Exploration Notebook\n",
    "Have a look at your data, understand when and what was crawled. See if you find documents that are not relevant to your task. Consider what metadata you want to collect."
   ]
  },
  {
   "cell_type": "markdown",
   "metadata": {},
   "source": [
    "## Setup\n",
    "You need to execute this every time you open the notebook."
   ]
  },
  {
   "cell_type": "code",
   "execution_count": 1,
   "metadata": {},
   "outputs": [],
   "source": [
    "from bs4 import BeautifulSoup as BS\n",
    "from functions import explore_metadata as explore_m\n",
    "from functions import explore_irrelevant as explore_i\n",
    "\n",
    "%load_ext autoreload  # Useful for buxfixing, remove in final ver\n",
    "%autoreload 2  # Useful for buxfixing, remove in final ver"
   ]
  },
  {
   "cell_type": "markdown",
   "metadata": {},
   "source": [
    "In the cell below, specify the directory where your data is stored."
   ]
  },
  {
   "cell_type": "code",
   "execution_count": null,
   "metadata": {},
   "outputs": [],
   "source": [
    "DATA_DIRECTORY = '/home/brunobrocai/Code/med-crawlers/paradisi_forum/health_pages'"
   ]
  },
  {
   "cell_type": "markdown",
   "metadata": {},
   "source": [
    "## Basic Metadata\n",
    "Have a look at how many documents you have, how much data you have, and when the documents were crawled."
   ]
  },
  {
   "cell_type": "markdown",
   "metadata": {},
   "source": [
    "The function below gives you the same info as your file explorer."
   ]
  },
  {
   "cell_type": "code",
   "execution_count": 2,
   "metadata": {},
   "outputs": [
    {
     "name": "stdout",
     "output_type": "stream",
     "text": [
      "Total number of documents: 54033\n",
      "Total size of files in the directory: 5.05 GB\n"
     ]
    }
   ],
   "source": [
    "count = explore_m.document_count(DATA_DIRECTORY)\n",
    "print(f'Total number of documents: {count}')\n",
    "size = explore_m.get_total_size(DATA_DIRECTORY)\n",
    "print(\"Total size of files in the directory:\", explore_m.format_size(size))"
   ]
  },
  {
   "cell_type": "markdown",
   "metadata": {},
   "source": [
    "The function below gives you the timeline of when the documents were crawled and what the cutoff date is.\n",
    ">Be aware that this function can take a while to run and might not be very useful in some cases."
   ]
  },
  {
   "cell_type": "code",
   "execution_count": null,
   "metadata": {},
   "outputs": [],
   "source": [
    "explore_m.vis_crawling_history(DATA_DIRECTORY)"
   ]
  },
  {
   "cell_type": "markdown",
   "metadata": {},
   "source": [
    "## Find irrelevant documents\n",
    "Look at structures in the urls you scraped. List all subdomains and frequent strings in the urls. Maybe you find some patterns that are not relevant to your use case."
   ]
  },
  {
   "cell_type": "code",
   "execution_count": null,
   "metadata": {},
   "outputs": [],
   "source": [
    "urls = explore_i.list_key(DATA_DIRECTORY, 'url')"
   ]
  },
  {
   "cell_type": "code",
   "execution_count": null,
   "metadata": {},
   "outputs": [],
   "source": [
    "explore_i.get_subdomains(urls, print_=True)"
   ]
  },
  {
   "cell_type": "code",
   "execution_count": null,
   "metadata": {},
   "outputs": [],
   "source": [
    "explore_i.get_common_bytepairs(urls, iterations=500)"
   ]
  },
  {
   "cell_type": "markdown",
   "metadata": {},
   "source": [
    "If you find a url pattern that interests you, you can use the function below to list all urls that match the pattern."
   ]
  },
  {
   "cell_type": "code",
   "execution_count": null,
   "metadata": {},
   "outputs": [],
   "source": [
    "pattern_matches = explore_i.matching_set(urls, '/themen/')\n",
    "\n",
    "explore_i.print_match_results(pattern_matches, count, True)"
   ]
  },
  {
   "cell_type": "markdown",
   "metadata": {},
   "source": [
    "Sometimes, irrelevant data does not reveal itself in the urls. In this case, you might need to define a function that takes a look at the html to decide if a document is relevant or not.\n",
    "In the cell below, you can define such a function and see what documents it matches.\n",
    "\n",
    ">The function will be used by later notebooks. It should return TRUE if the document is relevant and FALSE if it is not."
   ]
  },
  {
   "cell_type": "code",
   "execution_count": 3,
   "metadata": {},
   "outputs": [
    {
     "name": "stderr",
     "output_type": "stream",
     "text": [
      "Processing /home/brunobrocai/Code/med-crawlers/paradisi_forum/health_pages: 100%|██████████| 54033/54033 [12:46<00:00, 70.46it/s]"
     ]
    },
    {
     "name": "stdout",
     "output_type": "stream",
     "text": [
      "Number of matching files: 34653\n",
      "This represents 64.13% of the files.\n"
     ]
    },
    {
     "name": "stderr",
     "output_type": "stream",
     "text": [
      "\n"
     ]
    }
   ],
   "source": [
    "def my_relevant_match_function(data):\n",
    "    html = data['html_content']\n",
    "    if html:\n",
    "        return True\n",
    "    return False\n",
    "\n",
    "\n",
    "function_matches = explore_i.apply_function_dir(DATA_DIRECTORY, my_relevant_match_function)\n",
    "explore_i.print_match_results(function_matches, count)"
   ]
  },
  {
   "cell_type": "markdown",
   "metadata": {},
   "source": [
    "## Explore document metadata\n",
    "Have a look at what html metadata is available in your documents."
   ]
  },
  {
   "cell_type": "code",
   "execution_count": null,
   "metadata": {},
   "outputs": [],
   "source": []
  }
 ],
 "metadata": {
  "kernelspec": {
   "display_name": "Python 3",
   "language": "python",
   "name": "python3"
  },
  "language_info": {
   "codemirror_mode": {
    "name": "ipython",
    "version": 3
   },
   "file_extension": ".py",
   "mimetype": "text/x-python",
   "name": "python",
   "nbconvert_exporter": "python",
   "pygments_lexer": "ipython3",
   "version": "3.12.3"
  }
 },
 "nbformat": 4,
 "nbformat_minor": 2
}
