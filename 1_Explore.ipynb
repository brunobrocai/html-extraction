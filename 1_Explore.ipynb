{
 "cells": [
  {
   "cell_type": "markdown",
   "metadata": {},
   "source": [
    "# Data Exploration Notebook\n",
    "Have a look at your data, understand when and what was crawled. See if you find documents that are not relevant to your task. Consider what metadata you want to collect."
   ]
  },
  {
   "cell_type": "markdown",
   "metadata": {},
   "source": [
    "## Setup\n",
    "You need to execute this every time you open the notebook."
   ]
  },
  {
   "cell_type": "code",
   "execution_count": 1,
   "metadata": {},
   "outputs": [],
   "source": [
    "import os\n",
    "from functions import explore_metadata as explore_m\n",
    "from functions import explore_irrelevant as explore_i\n",
    "\n",
    "%load_ext autoreload\n",
    "%autoreload 2"
   ]
  },
  {
   "cell_type": "markdown",
   "metadata": {},
   "source": [
    "In the cell below, specify the directory where your data is stored."
   ]
  },
  {
   "cell_type": "code",
   "execution_count": null,
   "metadata": {},
   "outputs": [],
   "source": [
    "DATA_DIRECTORY = '/home/brunobrocai/Code/med-crawlers/spektrum_medizin/page_contents'"
   ]
  },
  {
   "cell_type": "markdown",
   "metadata": {},
   "source": [
    "## Basic Metadata\n",
    "Have a look at how many documents you have, how much data you have, and when the documents were crawled."
   ]
  },
  {
   "cell_type": "markdown",
   "metadata": {},
   "source": [
    "The function below gives you the same info as your file explorer."
   ]
  },
  {
   "cell_type": "code",
   "execution_count": null,
   "metadata": {},
   "outputs": [],
   "source": [
    "count = explore_m.document_count(DATA_DIRECTORY)\n",
    "print(f'Total number of documents: {count}')\n",
    "size = explore_m.get_total_size(DATA_DIRECTORY)\n",
    "print(\"Total size of files in the directory:\", explore_m.format_size(size))"
   ]
  },
  {
   "cell_type": "markdown",
   "metadata": {},
   "source": [
    "The function below gives you the timeline of when the documents were crawled and what the cutoff date is.\n",
    ">Be aware that this function can take a while to run and might not be very useful in some cases."
   ]
  },
  {
   "cell_type": "code",
   "execution_count": null,
   "metadata": {},
   "outputs": [],
   "source": [
    "explore_m.vis_crawling_history(DATA_DIRECTORY)"
   ]
  },
  {
   "cell_type": "markdown",
   "metadata": {},
   "source": [
    "## Find irrelevant documents\n",
    "Look at structures in the urls you scraped. List all subdomains and frequent strings in the urls. Maybe you find some patterns that are not relevant to your use case."
   ]
  },
  {
   "cell_type": "code",
   "execution_count": null,
   "metadata": {},
   "outputs": [],
   "source": [
    "urls = explore_i.list_key(DATA_DIRECTORY, 'url')"
   ]
  },
  {
   "cell_type": "code",
   "execution_count": null,
   "metadata": {},
   "outputs": [],
   "source": [
    "subdomains = explore_i.get_subdomains(urls, print_=False)\n",
    "for subdomain, count_ in subdomains.items():\n",
    "    if count_ > 10:\n",
    "        print(f'{subdomain}: {count_}')"
   ]
  },
  {
   "cell_type": "code",
   "execution_count": null,
   "metadata": {},
   "outputs": [],
   "source": [
    "explore_i.get_common_bytepairs(urls, iterations=1000, print_=True, min_print_len=5)"
   ]
  },
  {
   "cell_type": "markdown",
   "metadata": {},
   "source": [
    "If you find a url pattern that interests you, you can use the function below to list all urls that match the pattern."
   ]
  },
  {
   "cell_type": "code",
   "execution_count": null,
   "metadata": {},
   "outputs": [],
   "source": [
    "pattern_matches = explore_i.matching_set(urls, '/arznei/')\n",
    "\n",
    "explore_i.print_match_results(pattern_matches, count, True)"
   ]
  },
  {
   "cell_type": "markdown",
   "metadata": {},
   "source": [
    "Sometimes, irrelevant data does not reveal itself in the urls. In this case, you might need to define a function that takes a look at the html to decide if a document is relevant or not.\n",
    "In the cell below, you can define such a function and see what documents it matches.\n",
    "\n",
    ">The function will be used by later notebooks. It should return TRUE if the document is relevant and FALSE if it is not."
   ]
  },
  {
   "cell_type": "code",
   "execution_count": null,
   "metadata": {},
   "outputs": [],
   "source": [
    "from bs4 import BeautifulSoup as BS\n",
    "\n",
    "def my_relevant_match_function(data):\n",
    "    html = data['html_content']\n",
    "    if html:\n",
    "        return True\n",
    "    return False  # Return False if the document is irrelevant\n",
    "\n",
    "\n",
    "function_matches = explore_i.apply_function_dir(DATA_DIRECTORY, my_relevant_match_function)\n",
    "explore_i.print_match_results(function_matches, count)"
   ]
  },
  {
   "cell_type": "markdown",
   "metadata": {},
   "source": [
    "## Explore document metadata\n",
    "Have a look at what html metadata is available in your documents."
   ]
  },
  {
   "cell_type": "code",
   "execution_count": null,
   "metadata": {},
   "outputs": [],
   "source": [
    "example_file = os.path.join(\n",
    "    DATA_DIRECTORY,\n",
    "    os.listdir(DATA_DIRECTORY)[0]\n",
    ")\n",
    "\n",
    "explore_m.show_meta_elements(example_file)"
   ]
  }
 ],
 "metadata": {
  "kernelspec": {
   "display_name": "Python 3",
   "language": "python",
   "name": "python3"
  },
  "language_info": {
   "codemirror_mode": {
    "name": "ipython",
    "version": 3
   },
   "file_extension": ".py",
   "mimetype": "text/x-python",
   "name": "python",
   "nbconvert_exporter": "python",
   "pygments_lexer": "ipython3",
   "version": "3.12.4"
  }
 },
 "nbformat": 4,
 "nbformat_minor": 2
}
