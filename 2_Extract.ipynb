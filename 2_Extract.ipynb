{
 "cells": [
  {
   "cell_type": "code",
   "execution_count": 1,
   "metadata": {},
   "outputs": [
    {
     "name": "stderr",
     "output_type": "stream",
     "text": [
      "/usr/lib/python3/dist-packages/pytz/__init__.py:31: SyntaxWarning: invalid escape sequence '\\s'\n",
      "  match = re.match(\"^#\\s*version\\s*([0-9a-z]*)\\s*$\", line)\n"
     ]
    },
    {
     "ename": "IndentationError",
     "evalue": "expected an indented block after function definition on line 4 (_checker_functions.py, line 7)",
     "output_type": "error",
     "traceback": [
      "Traceback \u001b[0;36m(most recent call last)\u001b[0m:\n",
      "\u001b[0m  File \u001b[1;32m~/.local/lib/python3.12/site-packages/IPython/core/interactiveshell.py:3577\u001b[0m in \u001b[1;35mrun_code\u001b[0m\n    exec(code_obj, self.user_global_ns, self.user_ns)\u001b[0m\n",
      "\u001b[0m  Cell \u001b[1;32mIn[1], line 3\u001b[0m\n    from functions import cleaners, meta_retriever, utils\u001b[0m\n",
      "\u001b[0;36m  File \u001b[0;32m~/Code/html-extraction-basic/functions/cleaners.py:10\u001b[0;36m\n\u001b[0;31m    from . import _checker_functions\u001b[0;36m\n",
      "\u001b[0;36m  File \u001b[0;32m~/Code/html-extraction-basic/functions/_checker_functions.py:7\u001b[0;36m\u001b[0m\n\u001b[0;31m    def stern_is_free(data):\u001b[0m\n\u001b[0m    ^\u001b[0m\n\u001b[0;31mIndentationError\u001b[0m\u001b[0;31m:\u001b[0m expected an indented block after function definition on line 4\n"
     ]
    }
   ],
   "source": [
    "import os\n",
    "import json\n",
    "from functions import cleaners, meta_retriever, utils\n",
    "\n",
    "%load_ext autoreload\n",
    "%autoreload 2"
   ]
  },
  {
   "cell_type": "code",
   "execution_count": 2,
   "metadata": {},
   "outputs": [],
   "source": [
    "SRC_DIR = '/home/brunobrocai/Code/med-crawlers/spektrum_medizin/page_contents'\n",
    "GOAL_DIR = '/home/brunobrocai/Data/TRN/Web/spektrum_medizin_articles_cleaned'"
   ]
  },
  {
   "cell_type": "code",
   "execution_count": 3,
   "metadata": {},
   "outputs": [],
   "source": [
    "ArtClean = cleaners.ArticleCleaner()\n",
    "ArtClean.src_dir = SRC_DIR\n",
    "ArtClean.goal_dir = GOAL_DIR\n",
    "ArtClean.config_section = 'spektrum_medizin'"
   ]
  },
  {
   "cell_type": "code",
   "execution_count": 4,
   "metadata": {},
   "outputs": [],
   "source": [
    "MetaGet = meta_retriever.MetaRetriever()"
   ]
  },
  {
   "cell_type": "code",
   "execution_count": 7,
   "metadata": {},
   "outputs": [],
   "source": [
    "ArtClean.meta_retriever = MetaGet\n",
    "ArtClean.regen_existing = True"
   ]
  },
  {
   "cell_type": "code",
   "execution_count": 8,
   "metadata": {},
   "outputs": [
    {
     "name": "stderr",
     "output_type": "stream",
     "text": [
      "Cleaning articles: 100%|██████████| 124398/124398 [37:18<00:00, 55.57files/s]\n"
     ]
    }
   ],
   "source": [
    "ArtClean.clean_articles()"
   ]
  },
  {
   "cell_type": "markdown",
   "metadata": {},
   "source": [
    "Delete duplicate text"
   ]
  },
  {
   "cell_type": "code",
   "execution_count": 3,
   "metadata": {},
   "outputs": [
    {
     "name": "stdout",
     "output_type": "stream",
     "text": [
      "Duplicate text_md: https:__www.spektrum.de_wissen_laesst-sich-die-coronavirus-ausbreitung-in-deutschland-kontrollieren_1700384.json\n",
      "Duplicate text_md: https:__www.spektrum.de_news_die-dunkle-seite-der-probiotika_1583444.json\n",
      "Duplicate text_md: https:__www.spektrum.de_news_wann-gibt-es-einen-impfstoff-gegen-das-ebola-virus_1303249.json\n",
      "Duplicate text_md: https:__www.spektrum.de_news_gesundheit-ist-zu-viel-hygiene-schuld-an-allergien_1389433.json\n",
      "Duplicate text_md: https:__www.spektrum.de_news_sterbehilfe-verbot-verletzt-recht-auf-selbstbestimmtes-sterben_1708494.json\n",
      "Duplicate text_md: https:__www.spektrum.de_magazin_clusterkopfschmerz-ein-seltenes-leiden_1393726.json\n",
      "Duplicate text_md: https:__www.spektrum.de_kolumne_biontech-fuer-kinder-die-ema-empfehlung-erschwert-eltern-das-leben_1878883.json\n",
      "Duplicate text_md: https:__www.spektrum.de_thema_coronaviren_1357131.json\n",
      "Duplicate text_md: https:__www.spektrum.de_news_zweisprachigkeit-vermindert-nachlassen-kognitiver-faehigkeiten-mit-dem-alter_721891.json\n",
      "Duplicate text_md: https:__www.spektrum.de_news_impfstoffe-muessen-maximal-sicher-sein_1798196.json\n",
      "Duplicate text_md: https:__www.spektrum.de_wissen_war-der-deutsche-coronavirus-fall-zu-verhindern_1700384.json\n",
      "Duplicate text_md: https:__www.spektrum.de_thema_krebs_1288234.json\n",
      "Duplicate text_md: https:__www.spektrum.de_magazin_soziodemografie-elf-mythen-ueber-burnout_1376822.json\n",
      "Duplicate text_md: https:__www.spektrum.de_artikel_1758148.json\n",
      "Duplicate text_md: https:__www.spektrum.de_wissen_groesste-herausforderung-seit-dem-zweiten-weltkrieg_1700384.json\n",
      "Duplicate text_md: https:__www.spektrum.de_news_ernaehrungsempfehlungen-mehr-huelsenfruechte-und-weniger-fleisch_2210194.json\n",
      "Duplicate text_md: https:__www.spektrum.de_news_sars-cov-2-hartnaeckige-coronainfektionen-haeufiger-als-angenommen_2208175.json\n",
      "Duplicate text_md: https:__www.spektrum.de_news_Covid-19-infiziert-aber-nicht-immun_1749904.json\n",
      "Duplicate text_md: https:__www.spektrum.de_news_zweifel-an-stammzellen-aus-saeurebad_1224524.json\n",
      "Duplicate text_md: https:__www.spektrum.de_wissen_zwei-tote-durch-das-coronavirus-in-deutschland_1700384.json\n",
      "Duplicate text_md: https:__www.spektrum.de_news_wie-ueberwindet-man-aengste_1582894.json\n",
      "Duplicate text_md: https:__www.spektrum.de_news_true-crime-verwesungs-mikroben-weisen-auf-todeszeitpunkt-hin_2206691.json\n",
      "Duplicate text_md: https:__www.spektrum.de_news_der-mikrokosmos-als-maximalprojekt_1406659.json\n",
      "Duplicate text_md: https:__www.spektrum.de_news_svante-paeaebo-so-lief-die-bekanntgabe-des-nobelpreises-fuer-medizin_2062359.json\n",
      "Duplicate text_md: https:__www.spektrum.de_news_hiv-weiss-wie-man-sich-gut-versteckt_1761825.json\n",
      "Duplicate text_md: https:__www.spektrum.de_news_schnelltests-bei-kindern-ergebnisse-sind-nicht-zuverlaessig_1973305 .json\n",
      "Duplicate text_md: https:__www.spektrum.de_wissen_verursacht-das-coronavirus-engpaesse-bei-medikamenten_1700384.json\n",
      "Duplicate text_md: https:__www.spektrum.de_magazin_unisono-fortissimo_940236.json\n",
      "Duplicate text_md: https:__www.spektrum.de_news_meinung-die-unnoetige-rueckkehr-der-masern-in-deutschland_1331142.json\n",
      "Duplicate text_md: https:__www.spektrum.de_news_lieber-hocken-statt-sitzen_1711786.json\n",
      "Duplicate text_md: https:__www.spektrum.de_news_keine-angst-vor-der-vergessenspille_1120877.json\n",
      "Duplicate text_md: https:__www.spektrum.de_news_wie-das-virus-den-koerper-verwuestet_1746644.json\n",
      "Duplicate text_md: https:__www.spektrum.de_wissen_wie-entwickelt-sich-die-coronavirus-pandemie_1700384.json\n",
      "Duplicate text_md: https:__www.spektrum.de_news_therapie-per-licht_1315506.json\n",
      "Duplicate text_md: https:__www.spektrum.de_news_die-wichtigsten-antworten-ueber-corona-impfstoffe_1806929.json\n",
      "Duplicate text_md: https:__www.spektrum.de_news_unscheinbarer-fuehrungsspieler_1299047.json\n",
      "Duplicate text_md: https:__www.spektrum.de_wissen_astrazeneca-pausiert-impfstoffstudie-wegen-moeglicher-nebenwirkungen_1700384.json\n",
      "Duplicate text_md: https:__www.spektrum.de_news_studie-bis-zu-280-000-ebolainfizierte-bis-ende-2014-moeglich_1308598.json\n",
      "Duplicate text_md: https:__www.spektrum.de_magazin_svante-paeaebo-ueber-palaeogenetik_821303.json\n",
      "Duplicate text_md: https:__www.spektrum.de_news_aktuelles-stichwort-imputation-der-umgang-mit-fehlenden-werten_1635682.json\n",
      "Duplicate text_md: https:__www.spektrum.de_news_covid-19-steroide-steigern-ueberlebenschancen-schwererkrankter_1767280.json\n",
      "Duplicate text_md: https:__www.spektrum.de_wissen_wie-laesst-sich-covid-19-in-deutschland-eindaemmen_1700384.json\n",
      "Duplicate text_md: https:__www.spektrum.de_news_was-ein-neues-transplantationsgesetz-aendern-koennte_1698806.json\n",
      "Duplicate text_md: https:__www.spektrum.de_wissen_wie-gut-ist-die-coronavirus-epidemie-unter-kontrolle_1700384.json\n",
      "Duplicate text_md: https:__www.spektrum.de_news_die-5-wichtigsten-fragen-zu-alzheimer_1294991.json\n",
      "Duplicate text_md: https:__www.spektrum.de_wissen_wie-lang-ueberlebt-das-virus-auf-oberflaechen_1700384.json\n",
      "Duplicate text_md: https:__www.spektrum.de_artikel_1791272.json\n",
      "Duplicate text_md: https:__www.spektrum.de_news_kater-nach-alkoholkonsum-richtig-atmen-macht-nuechtern_1792841.json\n",
      "Duplicate text_md: https:__www.spektrum.de_news_mikrobiom-was-darmbakterien-wirklich-koennen_1435188.json\n",
      "Duplicate text_md: https:__www.spektrum.de_wissen_notfallzulassung-fuer-ersten-impfstoff-beantragt_1700384.json\n",
      "Duplicate text_md: https:__www.spektrum.de_news_astronauten-im-winterschlaf-das-fuehlt-sich-an-wie-eine-narkose_2202979.json\n",
      "Duplicate text_md: https:__www.spektrum.de_news_gesundheit-ist-der-hype-um-cannabidiol-berechtigt_1680420.json\n",
      "Duplicate text_md: https:__www.spektrum.de_wissen_wer-ist-immun-gegen-das-coronavirus_1700384.json\n",
      "Duplicate text_md: https:__www.spektrum.de_wissen_5-fakten-zu-crystal-meth_1304742.json\n",
      "Duplicate text_md: https:__www.spektrum.de_news_neurologie-warum-wir-unter-kopfschmerzen-besonders-leiden_1519367.json\n",
      "Duplicate text_md: https:__www.spektrum.de_wissen_wie-entwickelt-sich-die-coronavirus-epidemie_1700384.json\n",
      "Duplicate text_md: https:__www.spektrum.de_thema_malaria_840751.json\n",
      "Duplicate text_md: https:__www.spektrum.de_news_alle-kinder-brauchen-gleich-viel-energie_1694282.json\n",
      "Duplicate text_md: https:__www.spektrum.de_thema_optogenetik_1065164.json\n",
      "Duplicate text_md: https:__www.spektrum.de_news_laktose-und-glutenfreie-produkte-erobern-die-supermaerkte_1283562.json\n",
      "Duplicate text_md: https:__www.spektrum.de_wissen_ist-glutamat-vielleicht-sogar-gesund_1697398.json\n",
      "Duplicate text_md: https:__www.spektrum.de_wissen_wie-funktioniert-crispr-cas9_1441060.json\n",
      "Duplicate text_md: https:__www.spektrum.de_news_stillberatung-was-tun-bei-stillproblemen_1933186.json\n",
      "Duplicate text_md: https:__www.spektrum.de_magazin_krebs-eine-herausforderung-fuer-die-forschung_969804.json\n",
      "Duplicate text_md: https:__www.spektrum.de_index_aerztetag_1719294.json\n",
      "Duplicate text_md: https:__www.spektrum.de_wissen_wieso-manchen-menschen-abnehmen-schwerer-faellt-als-anderen_1532157.json\n",
      "Duplicate text_md: https:__www.spektrum.de_news_droht-ebola-sich-in-der-menschheit-festzusetzen_1309956.json\n",
      "Duplicate text_md: https:__www.spektrum.de_news_ohne-nase-ist-alles-mist_1297906.json\n",
      "Duplicate text_md: https:__www.spektrum.de_news_bewegung-so-wird-das-herz-von-sportmuffeln-wieder-fit_1531285.json\n",
      "Duplicate text_md: https:__www.spektrum.de_news_das-vitamin-und-das-virus-hilft-vitamin-d-gegen-das-coronavirus_1803668.json\n",
      "Duplicate text_md: https:__www.spektrum.de_news_karies-und-parodontose-wie-oft-sollte-man-zum-zahnarzt_1916086.json\n",
      "Duplicate text_md: https:__www.spektrum.de_news_koennen-vergessene-traumata-wieder-auftauchen_1775934.json\n",
      "Duplicate text_md: https:__www.spektrum.de_magazin_reiseuebelkeit-ist-ihnen-schlecht_1791269.json\n",
      "Duplicate text_md: https:__www.spektrum.de_news_weckruf-fuer-die-politik_1116225.json\n",
      "Duplicate text_md: https:__www.spektrum.de_news_was-haelt-menschen-von-der-organspende-ab_1699052.json\n",
      "Duplicate text_md: https:__www.spektrum.de_news_koerpermasse-so-gross-und-schwer-sind-die-deutschen_1789697.json\n",
      "Duplicate text_md: https:__www.spektrum.de_thema_epigenetik_1191602.json\n",
      "Duplicate text_md: https:__www.spektrum.de_wissen_waren-die-ersten-deutschen-coronavirus-faelle-zu-verhindern_1700384.json\n",
      "Duplicate text_md: https:__www.spektrum.de_news_das-mers-virus-kommt-durch-die-luft_1301808.json\n",
      "Duplicate text_md: https:__www.spektrum.de_news_der-lieferanteneingang-fuer-trojanische-pferde_344137.json\n",
      "Duplicate text_md: https:__www.spektrum.de_news_skandal-stammzellen-durch-stress-statt-saeure_1280789.json\n",
      "Duplicate text_md: https:__www.spektrum.de__news_zuwenig-hemmung_340925.json\n",
      "Duplicate text_md: https:__www.spektrum.de_news_evolution-mit-darwin-gegen-die-antibiotikakrise_2142567.json\n",
      "Duplicate text_md: https:__www.spektrum.de_news_stress-bakterien-und-herzinfarkt-haengen-zusammen_1294887.json\n",
      "Duplicate text_md: https:__www.spektrum.de_news_nobelpreise-2009-verkappt-zur-unsterblichkeit_1009938.json\n",
      "Duplicate text_md: https:__www.spektrum.de_thema_krebs-der-killer-in-uns_1288234?skip=40.json\n",
      "Duplicate text_md: https:__www.spektrum.de_news_ist-die-pille-wirklich-sicher_1425709.json\n",
      "Duplicate text_md: https:__www.spektrum.de_news_coronavirus-mythen-weihnachtsgeschenke-uebertragen-keine-viren_1713436.json\n",
      "Duplicate text_md: https:__www.spektrum.de_news_die-angst-um-die-liebsten_1804799.json\n",
      "Duplicate text_md: https:__www.spektrum.de_wissen_gibt-es-im-herbst-wieder-mehr-todesfaelle_1700384.json\n",
      "Duplicate text_md: https:__www.spektrum.de_news_viele-pfunde-viele-sorgen_1339074.json\n",
      "Duplicate text_md: https:__www.spektrum.de_news_benoetigen-wir-einen-weltrat-fuer-antibiotikaresistenzen_1288084.json\n",
      "Duplicate text_md: https:__www.spektrum.de_news_was-kann-die-mittelmeerdiaet-und-was-nicht_1258898.json\n",
      "Duplicate text_md: https:__www.spektrum.de_news_umweltverschmutzung-quecksilberbelastung-bei-thunfischen-unveraendert_2208133.json\n",
      "Duplicate text_md: https:__www.spektrum.de_news_der-kampf-gegen-den-biofilm_1329591.json\n",
      "Duplicate text_md: https:__www.spektrum.de_thema_krebs-der-killer-in-uns_1288234.json\n",
      "Duplicate text_md: https:__www.spektrum.de_news_gentechnik-die-neue-crispr-welt_1713780.json\n",
      "Duplicate text_md: https:__www.spektrum.de_news_fast-die-haelfte-aller-ebolafaelle-in-den-letzten-drei-wochen_1309093.json\n",
      "Duplicate text_md: https:__www.spektrum.de_wissen_finden-sie-die-sportart-die-zu-ihnen-passt_1687662.json\n",
      "Duplicate text_md: https:__www.spektrum.de_news_forschung-im-nebel-der-interessen_1212733.json\n",
      "Duplicate text_md: https:__www.spektrum.de_news_warum-masern-immer-wieder-den-bibelguertel-heimsuchen_1620394.json\n",
      "Duplicate text_md: https:__www.spektrum.de_news_hilft-eine-hyposensibilisierung-bei-allergie-auf-hund-oder-katze_2115216.json\n",
      "Duplicate text_md: https:__www.spektrum.de_thema_ein-neues-coronavirus-veraendert-die-welt_1357131.json\n",
      "Duplicate text_md: https:__www.spektrum.de_magazin_kreativitaet-kuenstler-wie-goethe-zogen-kreativitaet-aus-seelischen-krisen_1320206.json\n",
      "Duplicate text_md: https:__www.spektrum.de_news_koerpertemperatur-sinkt-seit-jahrzehnten_1698488.json\n",
      "Duplicate text_md: https:__www.spektrum.de_news_depression-foerdert-unsere-gesellschaft-psychische-erkrankungen_2200836.json\n",
      "Duplicate text_md: https:__www.spektrum.de_news_corona-impfung-welche-impfstoffe-schuetzen-wie-lange_1945216.json\n",
      "Duplicate text_md: https:__www.spektrum.de_kolumne_sollte-man-sich-vor-dem-sport-dehnen_1783331.json\n",
      "Duplicate text_md: https:__www.spektrum.de_news_neujahrsvorsaetze-warum-wollen-viele-zu-jahresbeginn-abnehmen_2201757.json\n",
      "Duplicate text_md: https:__www.spektrum.de_thema_depression-und-suizid_1013986.json\n",
      "Duplicate text_md: https:__www.spektrum.de_wissen_was-bringen-die-ausgangsbeschraenkungen_1700384.json\n",
      "Duplicate text_md: https:__www.spektrum.de_news_seuchengeschichte-tuberkulose-kommt-aus-china_1328645.json\n",
      "Duplicate text_md: https:__www.spektrum.de_thema_unsere-ernaehrung_1211073.json\n",
      "Duplicate text_md: https:__www.spektrum.de_news_wie-die-e-mail-flut-unser-gehirn-ueberfordert_1312215.json\n",
      "Duplicate text_md: https:__www.spektrum.de_magazin_lewy-koerperchen-demenz-gedaechtnisprobleme-und-halluzinationen_1309380.json\n",
      "Duplicate text_md: https:__www.spektrum.de_magazin_hirnforschung-neurogenese-dank-richtiger-ernaehrung_1326893.json\n",
      "Duplicate text_md: https:__www.spektrum.de_news_wie-wollen-wir-sterben_1757542.json\n",
      "Duplicate text_md: https:__www.spektrum.de_video_gemeinsam-staerker_1539493.json\n",
      "Duplicate text_md: https:__www.spektrum.de_news_gruenes-licht-fuer-mensch-tier-hybride_1663208 .json\n",
      "Duplicate text_md: https:__www.spektrum.de_thema_wer-bekommt-einen-nobelpreis_1209525.json\n",
      "Duplicate text_md: https:__www.spektrum.de_news_sexualitaet-alltag-im-schlafzimmer_1639588.json\n",
      "Duplicate text_md: https:__www.spektrum.de_news_lego-spielen-mit-dna-bausteinen_1172463.json\n",
      "Duplicate text_md: https:__www.spektrum.de_magazin_kaenguru-methode-fuer-fruehchen_1531605.json\n",
      "Duplicate text_md: https:__www.spektrum.de_news_hygiene-zahnbuersten-sind-bakterienmagneten_1349525.json\n",
      "Duplicate text_md: https:__www.spektrum.de_news_nasenspray-5-fakten-ueber-abschwellende-nasentropfen-und-sprays_2208721.json\n",
      "Duplicate text_md: https:__www.spektrum.de_news_wurmmolekuel-koennte-autoimmunerkrankungen-lindern_1304506.json\n",
      "Duplicate text_md: https:__www.spektrum.de_news_gefahr-durch-loechrige-impfungen_1360467.json\n",
      "Duplicate text_md: https:__www.spektrum.de_news_lebenserwartung-stieg-nach-der-grossen-pestwelle-deutlich_1284591.json\n",
      "Duplicate text_md: https:__www.spektrum.de_news_medizininformatik-die-ki-sieht-was-was-du-nicht-siehst_1718974.json\n",
      "Duplicate text_md: https:__www.spektrum.de_news_auch-normalgewichtige-koennen-magersuechtig-sein_1684094.json\n",
      "Duplicate text_md: https:__www.spektrum.de_news_autoimmunerkrankungen-wie-salmonellen-gelenkschmerzen-verursachen_1750538.json\n",
      "Duplicate text_md: https:__www.spektrum.de_kolumne_krankenhaeuser-sind-schwachstellen-bei-pandemien_1350332.json\n",
      "Duplicate text_md: https:__www.spektrum.de_krebs.json\n",
      "Duplicate text_md: https:__www.spektrum.de_news_fuenf-fakten-zu-ebola_1258788.json\n",
      "Duplicate text_md: https:__www.spektrum.de_news_wegen-coronavirus-kein-karneval-in-venedig_1708110.json\n",
      "Duplicate text_md: https:__www.spektrum.de_news_meinung-unnoetige-rueckkehr-der-seuche_1331142.json\n",
      "Duplicate text_md: https:__www.spektrum.de_wissen_hygiene-zehn-ideen-fuer-eine-nette-toilette_1704434.json\n",
      "Duplicate text_md: https:__www.spektrum.de_news_auszeichnung-fuer-die-entdeckung-von-hepatitis-c_1777767.json\n",
      "Duplicate text_md: https:__www.spektrum.de_news_corona-pandemie-verschlimmert-ungesunde-ernaehrung_1841428.json\n",
      "Duplicate text_md: https:__www.spektrum.de_news_medizinischer-streitfall-ursache-unbekannt_1120156.json\n",
      "Duplicate text_md: https:__www.spektrum.de_news_was-unser-koerpergewicht-bestimmt_1512517.json\n",
      "Duplicate text_md: https:__www.spektrum.de_news_ueber-nacht-zum-vegetarier_1161137.json\n",
      "Duplicate text_md: https:__www.spektrum.de_magazin_neue-wege-aus-der-qual_872687.json\n",
      "Duplicate text_md: https:__www.spektrum.de_news_vitamine-auf-dem-pruefstand_1305981.json\n",
      "Duplicate text_md: https:__www.spektrum.de_news_konnektom-erste-neuronale-karte-fuer-beide-geschlechter_1657348.json\n",
      "Duplicate text_md: https:__www.spektrum.de_news_elektroflugzeuge-umweltfreundlich-fliegen-mit-strom_1806965.json\n",
      "Duplicate text_md: https:__www.spektrum.de_wissen_wie-schuetzt-man-sich-vor-der-pandemie_1700384.json\n",
      "Duplicate text_md: https:__www.spektrum.de_wissen_was-bringt-die-corona-app_1700384.json\n",
      "Duplicate text_md: https:__www.spektrum.de_wissen_corona-wie-ist-das-virus-zu-stoppen_1700384.json\n",
      "Duplicate text_md: https:__www.spektrum.de_news_allergie-wenn-eigentlich-harmlose-stoffe-bedrohlich-werden_2118363.json\n",
      "Duplicate text_md: https:__www.spektrum.de_news_ein-pilz-ist-einer-der-gefaehrlichsten-krankenhauskeime_1647882.json\n",
      "Duplicate text_md: https:__www.spektrum.de_news_ein-jogurt-heilt-keine-depression_1704862.json\n",
      "Duplicate text_md: https:__www.spektrum.de_news_yoga-und-meditation-die-entschleunigung-des-atems_1636754.json\n",
      "Duplicate text_md: https:__www.spektrum.de_news_aids-der-lange-weg-zu-einer-hiv-impfung_1753038.json\n",
      "Duplicate text_md: https:__www.spektrum.de_kolumne_das-ende-der-komfortzone_1665318.json\n",
      "Duplicate text_md: https:__www.spektrum.de_news_klimaveraenderungen-loesten-drei-antike-pandemien-aus_2205477.json\n",
      "Duplicate text_md: https:__www.spektrum.de_news_coronatest-was-der-ct-wert-ueber-die-ansteckungskraft-verraet_1790384.json\n",
      "Duplicate text_md: https:__www.spektrum.de_news_nahrungsergaenzungsmittel-wie-wirkt-zinkzusatz-im-koerper-wirklich_1434020.json\n",
      "Duplicate text_md: https:__www.spektrum.de_news_mers-die-gefaehrliche-seuche-breitet-sich-aus_1284457.json\n",
      "Duplicate text_md: https:__www.spektrum.de_wissen_fragen-und-antworten-ueber-das-neue-coronavirus_1700384.json\n",
      "Duplicate text_md: https:__www.spektrum.de_news_ueber-fett-laesst-sich-streiten_1300092.json\n",
      "Duplicate text_md: https:__www.spektrum.de_kolumne_riskante-vakzinen-wette_1308215.json\n",
      "Duplicate text_md: https:__www.spektrum.de_news_fruehe-impfung-schuetzt-deutlich-vor-gebaermutterhalskrebs_1780329.json\n",
      "Duplicate text_md: https:__www.spektrum.de_artikel_822939.json\n",
      "Duplicate text_md: https:__www.spektrum.de_news_viren-unter-verdacht-eine-impfung-gegen-diabetes_1585840.json\n",
      "Duplicate text_md: https:__www.spektrum.de_kolumne_wie-vermeide-ich-muskelkater_1757256.json\n",
      "Duplicate text_md: https:__www.spektrum.de_news_das-richtige-gewicht_1722254.json\n",
      "Duplicate text_md: https:__www.spektrum.de_wissen_wann-wird-das-gesundheitssystem-ueberlastet_1700384.json\n",
      "Duplicate text_md: https:__www.spektrum.de_news_ursache-und-symptome-des-afrikanischen-kopfnick-syndrom_1305422.json\n",
      "Duplicate text_md: https:__www.spektrum.de_thema_psychische-stoerungen-wenn-die-seele-leidet_1301049.json\n",
      "Duplicate text_md: https:__www.spektrum.de_news_resilienz-foerdern-wie-geht-das_1613232.json\n",
      "Duplicate text_md: https:__www.spektrum.de_news_brustkrebs-malariamedikament-macht-tamoxifen-wieder-scharf_1295452.json\n",
      "Duplicate text_md: https:__www.spektrum.de_wissen_welche-lockerungen-des-lockdowns-sind-in-deutschland-geplant_1700384.json\n",
      "Duplicate text_md: https:__www.spektrum.de_kolumne_in-der-dopingfalle_1203533.json\n",
      "Duplicate text_md: https:__www.spektrum.de_news_der-biologie-des-chronischen-erschoepfungssyndroms-auf-der-spur_1445261.json\n",
      "Duplicate text_md: https:__www.spektrum.de_news_praenataldiagnostik-embryo-untersuchung-mit-mutters-blut_1056649.json\n",
      "Duplicate text_md: https:__www.spektrum.de_news_frueher-pesterreger-ist-ausgestorben_1221804.json\n",
      "Duplicate text_md: https:__www.spektrum.de_news_ohne-tastsinn-gibt-es-kein-leben_1302125.json\n",
      "Duplicate text_md: https:__www.spektrum.de_news_coronavirus-welche-rolle-spielen-haustiere-bei-der-pandemie_1739994.json\n",
      "Duplicate text_md: https:__www.spektrum.de_magazin_schweres-ionengeschuetz_1012869.json\n",
      "Duplicate text_md: https:__www.spektrum.de_news_zeitumstellung-plaedoyer-fuer-die-winterzeit_1676820.json\n",
      "Duplicate text_md: https:__www.spektrum.de_kolumne_meinung-schafft-ein-zwei-viele-gesundheitssysteme_1328902.json\n",
      "Duplicate text_md: https:__www.spektrum.de_kolumne_der-kampf-um-die-genschere-faengt-erst-an_1438587.json\n",
      "Duplicate text_md: https:__www.spektrum.de_news_neue-corona-variante-warum-b-1-1-529-fachleuten-sorgen-macht_1953148.json\n"
     ]
    }
   ],
   "source": [
    "seen_texts = set()\n",
    "for file in os.listdir(GOAL_DIR):\n",
    "    if file.endswith('.json'):\n",
    "        with open(os.path.join(GOAL_DIR, file), 'r', encoding='utf-8') as f:\n",
    "            data = json.load(f)\n",
    "    text_md = data['text_md']\n",
    "    if text_md in seen_texts:\n",
    "        print('Duplicate text_md:', file)\n",
    "        os.remove(os.path.join(GOAL_DIR, file))\n",
    "    seen_texts.add(text_md)"
   ]
  },
  {
   "cell_type": "markdown",
   "metadata": {},
   "source": []
  },
  {
   "cell_type": "code",
   "execution_count": 6,
   "metadata": {},
   "outputs": [],
   "source": [
    "utils.rename_files_with_padded_index(GOAL_DIR)"
   ]
  }
 ],
 "metadata": {
  "kernelspec": {
   "display_name": "Python 3",
   "language": "python",
   "name": "python3"
  },
  "language_info": {
   "codemirror_mode": {
    "name": "ipython",
    "version": 3
   },
   "file_extension": ".py",
   "mimetype": "text/x-python",
   "name": "python",
   "nbconvert_exporter": "python",
   "pygments_lexer": "ipython3",
   "version": "3.12.4"
  }
 },
 "nbformat": 4,
 "nbformat_minor": 2
}
