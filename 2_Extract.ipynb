{
 "cells": [
  {
   "cell_type": "markdown",
   "metadata": {},
   "source": [
    "# Extract Data from HTML\n",
    "This notebook allows you to extract data from json files that store crawled html. Use to get the text and the metadata from the html."
   ]
  },
  {
   "cell_type": "code",
   "execution_count": null,
   "metadata": {},
   "outputs": [],
   "source": [
    "import os\n",
    "import json\n",
    "from functions import cleaners, meta_retriever, utils\n",
    "\n",
    "%load_ext autoreload\n",
    "%autoreload 2"
   ]
  },
  {
   "cell_type": "markdown",
   "metadata": {},
   "source": [
    "Specify the directory where the json files are stored and the directory where you want to save the extracted data."
   ]
  },
  {
   "cell_type": "code",
   "execution_count": null,
   "metadata": {},
   "outputs": [],
   "source": [
    "SRC_DIR = '/home/brunobrocai/Code/med-crawlers/spektrum_medizin/page_contents'\n",
    "GOAL_DIR = '/home/brunobrocai/Data/TRN/Web/spektrum_medizin_articles_cleaned'"
   ]
  },
  {
   "cell_type": "markdown",
   "metadata": {},
   "source": [
    "Create an html cleaner object and specify its attributes for the website you are extracting data from. You should have conigured config.yaml after playing around with the Explore HTML notebook."
   ]
  },
  {
   "cell_type": "code",
   "execution_count": null,
   "metadata": {},
   "outputs": [],
   "source": [
    "ArtClean = cleaners.ArticleCleaner()\n",
    "ArtClean.src_dir = SRC_DIR\n",
    "ArtClean.goal_dir = GOAL_DIR\n",
    "ArtClean.config_section = 'spektrum_medizin'"
   ]
  },
  {
   "cell_type": "markdown",
   "metadata": {},
   "source": [
    "Add an object that can retrieve metadata from the html. Standard: MetaRetriever class."
   ]
  },
  {
   "cell_type": "code",
   "execution_count": null,
   "metadata": {},
   "outputs": [],
   "source": [
    "MetaGet = meta_retriever.MetaRetriever()"
   ]
  },
  {
   "cell_type": "markdown",
   "metadata": {},
   "source": [
    "... tell your cleaner to use the metadata retriever."
   ]
  },
  {
   "cell_type": "code",
   "execution_count": null,
   "metadata": {},
   "outputs": [],
   "source": [
    "ArtClean.meta_retriever = MetaGet\n",
    "ArtClean.regen_existing = True"
   ]
  },
  {
   "cell_type": "markdown",
   "metadata": {},
   "source": [
    "Start the extraction process!"
   ]
  },
  {
   "cell_type": "code",
   "execution_count": null,
   "metadata": {},
   "outputs": [],
   "source": [
    "ArtClean.clean_articles()"
   ]
  },
  {
   "cell_type": "markdown",
   "metadata": {},
   "source": [
    "Delete duplicate text"
   ]
  },
  {
   "cell_type": "code",
   "execution_count": null,
   "metadata": {},
   "outputs": [],
   "source": [
    "seen_texts = set()\n",
    "for file in os.listdir(GOAL_DIR):\n",
    "    if file.endswith('.json'):\n",
    "        with open(os.path.join(GOAL_DIR, file), 'r', encoding='utf-8') as f:\n",
    "            data = json.load(f)\n",
    "    text_md = data['text_md']\n",
    "    if text_md in seen_texts:\n",
    "        print('Duplicate text_md:', file)\n",
    "        os.remove(os.path.join(GOAL_DIR, file))\n",
    "    seen_texts.add(text_md)"
   ]
  },
  {
   "cell_type": "markdown",
   "metadata": {},
   "source": [
    "Rename files to indexes if you want to."
   ]
  },
  {
   "cell_type": "code",
   "execution_count": null,
   "metadata": {},
   "outputs": [],
   "source": [
    "utils.rename_files_with_padded_index(GOAL_DIR)"
   ]
  }
 ],
 "metadata": {
  "kernelspec": {
   "display_name": "Python 3",
   "language": "python",
   "name": "python3"
  },
  "language_info": {
   "codemirror_mode": {
    "name": "ipython",
    "version": 3
   },
   "file_extension": ".py",
   "mimetype": "text/x-python",
   "name": "python",
   "nbconvert_exporter": "python",
   "pygments_lexer": "ipython3",
   "version": "3.12.4"
  }
 },
 "nbformat": 4,
 "nbformat_minor": 2
}
