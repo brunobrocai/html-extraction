{
 "cells": [
  {
   "cell_type": "code",
   "execution_count": 2,
   "metadata": {},
   "outputs": [
    {
     "name": "stderr",
     "output_type": "stream",
     "text": [
      "/usr/lib/python3/dist-packages/pytz/__init__.py:31: SyntaxWarning: invalid escape sequence '\\s'\n",
      "  match = re.match(\"^#\\s*version\\s*([0-9a-z]*)\\s*$\", line)\n"
     ]
    }
   ],
   "source": [
    "import os\n",
    "import json\n",
    "from functions import cleaners, meta_retrieval\n",
    "\n",
    "%load_ext autoreload\n",
    "%autoreload 2"
   ]
  },
  {
   "cell_type": "code",
   "execution_count": 4,
   "metadata": {},
   "outputs": [],
   "source": [
    "SRC_DIR = '/home/brunobrocai/Data/TRN/Web/apothekenumschau_raw'\n",
    "GOAL_DIR = '/home/brunobrocai/Data/TRN/Web/apothekenumschau_articles_cleaned_neu'"
   ]
  },
  {
   "cell_type": "code",
   "execution_count": null,
   "metadata": {},
   "outputs": [],
   "source": [
    "ArtClean = cleaners.ArticleCleaner()\n",
    "ArtClean.src_dir = SRC_DIR\n",
    "ArtClean.goal_dir = GOAL_DIR\n",
    "ArtClean.config_section = 'apothekenumschau'"
   ]
  },
  {
   "cell_type": "code",
   "execution_count": null,
   "metadata": {},
   "outputs": [],
   "source": [
    "MetaGet = meta_retrieval.MetaRetriever()"
   ]
  },
  {
   "cell_type": "code",
   "execution_count": null,
   "metadata": {},
   "outputs": [],
   "source": [
    "ArtClean.meta_retriever = MetaGet\n",
    "ArtClean.regen_existing = False"
   ]
  },
  {
   "cell_type": "code",
   "execution_count": null,
   "metadata": {},
   "outputs": [],
   "source": [
    "ArtClean.clean_articles()"
   ]
  },
  {
   "cell_type": "markdown",
   "metadata": {},
   "source": [
    "Delete duplicate text"
   ]
  },
  {
   "cell_type": "code",
   "execution_count": null,
   "metadata": {},
   "outputs": [],
   "source": [
    "seen_texts = set()\n",
    "for file in os.listdir(GOAL_DIR):\n",
    "    if file.endswith('.json'):\n",
    "        with open(os.path.join(GOAL_DIR, file), 'r', encoding='utf-8') as f:\n",
    "            data = json.load(f)\n",
    "    text_md = data['text_md']\n",
    "    if text_md in seen_texts:\n",
    "        print('Duplicate text_md:', file)\n",
    "        os.remove(os.path.join(GOAL_DIR, file))\n",
    "    seen_texts.add(text_md)"
   ]
  }
 ],
 "metadata": {
  "kernelspec": {
   "display_name": "Python 3",
   "language": "python",
   "name": "python3"
  },
  "language_info": {
   "codemirror_mode": {
    "name": "ipython",
    "version": 3
   },
   "file_extension": ".py",
   "mimetype": "text/x-python",
   "name": "python",
   "nbconvert_exporter": "python",
   "pygments_lexer": "ipython3",
   "version": "3.12.3"
  }
 },
 "nbformat": 4,
 "nbformat_minor": 2
}
