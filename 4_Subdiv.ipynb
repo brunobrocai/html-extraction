{
 "cells": [
  {
   "cell_type": "code",
   "execution_count": 1,
   "metadata": {},
   "outputs": [],
   "source": [
    "import json\n",
    "import os\n",
    "from tqdm import tqdm\n",
    "from functions import explore_metadata as explore_m\n",
    "from functions import explore_irrelevant as explore_i\n",
    "\n",
    "%load_ext autoreload\n",
    "%autoreload 2"
   ]
  },
  {
   "cell_type": "code",
   "execution_count": 8,
   "metadata": {},
   "outputs": [],
   "source": [
    "SRC_DIR = '/home/brunobrocai/Data/TRN/Web/apothekenumschau_cleaned'\n",
    "GOAL_DIR = '/home/brunobrocai/Data/TRN/Web/apothekenumschau_articles'\n",
    "count = len(os.listdir(SRC_DIR))"
   ]
  },
  {
   "cell_type": "code",
   "execution_count": null,
   "metadata": {},
   "outputs": [],
   "source": [
    "urls = explore_i.list_key(SRC_DIR, 'url')\n",
    "subdomains = explore_i.get_subdomains(urls, print_=True)"
   ]
  },
  {
   "cell_type": "code",
   "execution_count": null,
   "metadata": {},
   "outputs": [],
   "source": [
    "explore_i.get_common_bytepairs(urls, iterations=500)"
   ]
  },
  {
   "cell_type": "code",
   "execution_count": null,
   "metadata": {},
   "outputs": [],
   "source": [
    "pattern_matches = explore_i.matching_set(urls, 'spielen-basteln')\n",
    "\n",
    "explore_i.print_match_results(pattern_matches, count, True)"
   ]
  },
  {
   "cell_type": "code",
   "execution_count": 33,
   "metadata": {},
   "outputs": [],
   "source": [
    "import re\n",
    "\n",
    "def belongs_subcorpus(data):\n",
    "    url =  data['url']\n",
    "    irrelevant = (\n",
    "        '/beipackzettel/', 'spielen-basteln', '/podcast/',\n",
    "        'datenschutzerklaerung', '/apotheken-notdienst/',\n",
    "        'archiv/alle-artikel'\n",
    "    )\n",
    "    for pattern in irrelevant:\n",
    "        if re.search(pattern, url):\n",
    "            return False\n",
    "    if re.search(r'^(?!.*\\.html$).*$', url):\n",
    "        return False\n",
    "    return True"
   ]
  },
  {
   "cell_type": "code",
   "execution_count": 34,
   "metadata": {},
   "outputs": [],
   "source": [
    "def copy_subcorpus(src_dir, goal_dir, filter_func):\n",
    "    count = 0\n",
    "    for filename in os.listdir(src_dir):\n",
    "        if not filename.endswith('.json'):\n",
    "            continue\n",
    "        with open(os.path.join(src_dir, filename), 'r') as f:\n",
    "            data = json.load(f)\n",
    "        if filter_func(data):\n",
    "            with open(os.path.join(goal_dir, filename), 'w') as f:\n",
    "                json.dump(data, f, indent=4)\n",
    "            count += 1\n",
    "    return count"
   ]
  },
  {
   "cell_type": "code",
   "execution_count": 35,
   "metadata": {},
   "outputs": [
    {
     "data": {
      "text/plain": [
       "10043"
      ]
     },
     "execution_count": 35,
     "metadata": {},
     "output_type": "execute_result"
    }
   ],
   "source": [
    "copy_subcorpus(SRC_DIR, GOAL_DIR, belongs_subcorpus)"
   ]
  }
 ],
 "metadata": {
  "kernelspec": {
   "display_name": "Python 3",
   "language": "python",
   "name": "python3"
  },
  "language_info": {
   "codemirror_mode": {
    "name": "ipython",
    "version": 3
   },
   "file_extension": ".py",
   "mimetype": "text/x-python",
   "name": "python",
   "nbconvert_exporter": "python",
   "pygments_lexer": "ipython3",
   "version": "3.12.3"
  }
 },
 "nbformat": 4,
 "nbformat_minor": 2
}
