{
 "cells": [
  {
   "cell_type": "code",
   "execution_count": 1,
   "metadata": {},
   "outputs": [
    {
     "name": "stderr",
     "output_type": "stream",
     "text": [
      "/usr/lib/python3/dist-packages/pytz/__init__.py:31: SyntaxWarning: invalid escape sequence '\\s'\n",
      "  match = re.match(\"^#\\s*version\\s*([0-9a-z]*)\\s*$\", line)\n"
     ]
    }
   ],
   "source": [
    "import os\n",
    "import json\n",
    "from tqdm import tqdm\n",
    "from functions import article_getter\n",
    "from functions import utils\n",
    "\n",
    "%load_ext autoreload\n",
    "%autoreload 2"
   ]
  },
  {
   "cell_type": "code",
   "execution_count": 2,
   "metadata": {},
   "outputs": [],
   "source": [
    "filepath = '/home/brunobrocai/Data/TRN/Web/focus_gesundheit_cleaned_2'\n",
    "files = [\n",
    "    os.path.join(filepath, f) for f in os.listdir(filepath)\n",
    "    if f.endswith('.json')\n",
    "]\n",
    "files = files[:50]"
   ]
  },
  {
   "cell_type": "code",
   "execution_count": 3,
   "metadata": {},
   "outputs": [
    {
     "name": "stderr",
     "output_type": "stream",
     "text": [
      "Processing files: 100%|██████████| 50/50 [00:00<00:00, 574.53it/s]\n"
     ]
    }
   ],
   "source": [
    "for file in tqdm(files, desc='Processing files', total=len(files)):\n",
    "    with open(file, 'r', encoding='utf-8') as f:\n",
    "        data = json.load(f)\n",
    "    data['text'] = utils.markdown_to_text(data['text_md'])\n",
    "\n",
    "    with open(file, 'w', encoding='utf-8') as f:\n",
    "        json.dump(data, f, ensure_ascii=False, indent=4)"
   ]
  },
  {
   "cell_type": "code",
   "execution_count": 4,
   "metadata": {},
   "outputs": [
    {
     "name": "stdout",
     "output_type": "stream",
     "text": [
      "Herzinfarkt: Risiko ist an Feiertagen besonders hoch - wie Sie sich schützen\n",
      "\n",
      "\n",
      "An den winterlichen Feiertagen ist das Risiko für einen Herzinfarkt ganz besonders hoch. Kälte und Stress können etwa das Herz belasten. Gerade Risikopatienten sollten daher die wichtigsten Warnsignale kennen.\n",
      "\n",
      "\n",
      "Zur Ruhe kommen, Familienzeit genießen, es sich gut gehen lassen: Dass ausgerechnet über die Weihnachtsfeiertage ein höheres Herzinfarktrisiko als sonst bestehen soll, klingt im ersten Moment paradox.\n",
      "\n",
      "\n",
      "Doch es gibt Untersuchungen, etwa aus den USA und Schweden, die darauf schließen lassen. Eine schwedische Studie aus dem Jahr 2018 etwa zeigt ein erhöhtes Herzinfarkt-Risiko an Heiligabend und Neujahr. Das gilt insbesondere für Menschen über 75 Jahre und Menschen mit chronischen Erkrankungen wie zum Beispiel einer koronaren Herzkrankheit oder Diabetes.\n",
      "\n",
      "\n",
      "Kälte und Stress belasten das Herz\n",
      "\n",
      "\n",
      "Auch wenn es nach Angaben der Deutschen Herzstiftung keine entsprechende Forschung für Deutschland gibt: Es lohnt sich, an den Feiertagen gut auf das eigene Herz und seine Signale zu hören. Vor allem dann, wenn man Vorerkrankungen hat.\n",
      "\n",
      "\n",
      "Doch woran liegt es überhaupt, dass uns die Festtage aufs Herz schlagen können? Der American Heart Association zufolge ist es das Zusammenspiel mehrerer Faktoren :\n",
      "\n",
      "\n",
      "- Einer von ihnen: das kalte Winterwetter , bei dem sich die Blutgefäße verengen und das Herz stärker belastet wird.\n",
      "- Auch Stress , den viele rund um die Festtage erleben, ist ein Faktor, wie Thomas Voigtländer, Vorstandsvorsitzender der Deutschen Herzstiftung, sagt.\n",
      "\n",
      "\n",
      "Aufgeschobene Arztbesuche werden zum Risiko\n",
      "\n",
      "\n",
      "Dazu kommt: Weil über die Feiertage die Arztpraxen geschlossen sind, suchen sich viele Menschen bei Herzbeschwerden zu spät Hilfe. „Insbesondere bei längeren Feiertagsphasen - wenn die Weihnachtsfeiertage direkt vor oder nach einem Wochenende liegen - werden Herzinfarktpatienten aufgenommen, die zu lange gewartet haben, bis sie den Notruf 112 gerufen haben“, berichtet Voigtländer aus eigener Erfahrung.\n",
      "\n",
      "\n",
      "Symptome, die auf einen Herzinfarkt hindeuten\n",
      "\n",
      "\n",
      "Melden sich Beschwerden, die auf einen Herzinfarkt hindeuten, dann sollte man nicht warten, bis am 27. Dezember die Arztpraxen wieder offen sind, rät der Kardiologe. Ein Herzinfarkt-Verdacht ist ein Fall für die Notaufnahme.\n",
      "\n",
      "\n",
      "Zum Beispiel wenn sich plötzlich starke Schmerzen im Brustkorb melden. Auch\n",
      "\n",
      "\n",
      "- Gefühle von Enge,\n",
      "- Druck und\n",
      "- Brennen\n",
      "in der Brust deuten auf einen Herzinfarkt hin. Das wird oft begleitet von\n",
      "\n",
      "\n",
      "- Übelkeit\n",
      "- Erbrechen\n",
      "- Atemnot und\n",
      "- Schmerzen im Oberbauch.\n",
      "\n",
      "\n",
      "Routinen tun gut - auch an den Festtagen\n",
      "\n",
      "\n",
      "Was können Risikopatientinnen und Patienten noch tun, um ihr Herz über die Feiertage zu schützen? „Wichtig ist, dass Herzpatienten ihre Routinen einhalten“, rät Voigtländer. Das heißt unter anderem: Man sollte seine Medikamente wie üblich einnehmen.\n",
      "\n",
      "\n",
      "Auch die üblichen Ess- und Trinkgewohnheiten sollte man beibehalten. „Man kann durchaus mal ein Glas Sekt trinken, sollte es aber nicht zu sehr übertreiben“, sagt der Kardiologe. Hintergrund: Auch Veränderungen in Ernährung, Flüssigkeitsaufnahme oder auch Schlafverhalten können ein bedrohliches Herzereignis wie einen Herzinfarkt begünstigen.\n",
      "\n",
      "\n",
      "Mehr Gesundheits-News:\n",
      "\n",
      "\n",
      "In der Festtagssaison ein ständiges Problem: Schlemmen bis der Arzt, also das Foodkoma, kommt. Wenn Bauchkrämpfe zwischen all den Festtagsessen zum dauerhaften Begleiter werden, brauchen wir einen Plan.\n",
      "\n",
      "\n",
      "Viele Menschen legen an Weihnachten gerne die Füße hoch. Das ist absolut erlaubt – aber über ein bisschen Bewegung freut sich der Körper trotzdem. Lesen Sie hier, wie gut das für Ihren Körper ist.\n"
     ]
    }
   ],
   "source": [
    "with open(files[30], 'r', encoding='utf-8') as f:\n",
    "    data = json.load(f)\n",
    "\n",
    "print(data['text'])"
   ]
  },
  {
   "cell_type": "code",
   "execution_count": 5,
   "metadata": {},
   "outputs": [
    {
     "name": "stderr",
     "output_type": "stream",
     "text": [
      "Processing files: 100%|██████████| 28048/28048 [00:01<00:00, 20583.15it/s]\n"
     ]
    }
   ],
   "source": [
    "files = [\n",
    "    os.path.join(filepath, f) for f in os.listdir(filepath)\n",
    "    if f.endswith('.json')\n",
    "]\n",
    "\n",
    "urls = {}\n",
    "key = 'text'\n",
    "for file in tqdm(files, desc='Processing files', total=len(files)):\n",
    "    with open(file, 'r', encoding='utf-8') as f:\n",
    "        data = json.load(f)\n",
    "    urls[data[key]] = urls.get(data[key], 0) + 1\n",
    "    if data[key] == 'HIV: Aids':\n",
    "        print(data['url'])\n"
   ]
  }
 ],
 "metadata": {
  "kernelspec": {
   "display_name": "Python 3",
   "language": "python",
   "name": "python3"
  },
  "language_info": {
   "codemirror_mode": {
    "name": "ipython",
    "version": 3
   },
   "file_extension": ".py",
   "mimetype": "text/x-python",
   "name": "python",
   "nbconvert_exporter": "python",
   "pygments_lexer": "ipython3",
   "version": "3.12.3"
  }
 },
 "nbformat": 4,
 "nbformat_minor": 2
}
