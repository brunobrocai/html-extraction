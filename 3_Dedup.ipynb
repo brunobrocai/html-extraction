{
 "cells": [
  {
   "cell_type": "code",
   "execution_count": null,
   "metadata": {},
   "outputs": [],
   "source": [
    "import os\n",
    "from functions import deduplication\n",
    "from functions.utils import listdir_filetype\n",
    "\n",
    "%load_ext autoreload\n",
    "%autoreload 2"
   ]
  },
  {
   "cell_type": "code",
   "execution_count": null,
   "metadata": {},
   "outputs": [],
   "source": [
    "SRC_DIR = '/home/brunobrocai/Data/TRN/Web/apothekenumschau_articles_cleaned_neu'"
   ]
  },
  {
   "cell_type": "code",
   "execution_count": null,
   "metadata": {},
   "outputs": [],
   "source": [
    "srs_files = listdir_filetype(SRC_DIR, '.json', absolute=True)\n",
    "duplicate_elements = deduplication.markdown_deduplication(\n",
    "    srs_files,\n",
    "    lambda x: x['text_md']\n",
    ")"
   ]
  },
  {
   "cell_type": "code",
   "execution_count": null,
   "metadata": {},
   "outputs": [],
   "source": [
    "sorted_dups = {k: v for k, v in sorted(duplicate_elements.items(), key=lambda item: item[1], reverse=True)}\n",
    "\n",
    "for element, count in sorted_dups.items():\n",
    "    if count > 5:\n",
    "        print(f'{element} -> {count}')"
   ]
  },
  {
   "cell_type": "code",
   "execution_count": null,
   "metadata": {},
   "outputs": [],
   "source": [
    "def checker(paragraph, count):\n",
    "    if count > 5 and paragraph.count(' ') > 2:\n",
    "        return True\n",
    "    if count > 20:\n",
    "        return True\n",
    "    return False"
   ]
  },
  {
   "cell_type": "code",
   "execution_count": null,
   "metadata": {},
   "outputs": [],
   "source": [
    "for element, count in sorted_dups.items():\n",
    "    if checker(element, count):\n",
    "        print(f'{element} -> {count}')"
   ]
  },
  {
   "cell_type": "code",
   "execution_count": null,
   "metadata": {},
   "outputs": [],
   "source": [
    "deduplication.dir_deduped_text_md(SRC_DIR, duplicate_elements, checker)"
   ]
  },
  {
   "cell_type": "code",
   "execution_count": null,
   "metadata": {},
   "outputs": [],
   "source": [
    "deduplication.duplicate_elements_file(\n",
    "    duplicate_elements, checker, \n",
    "    os.path.join(SRC_DIR, 'duplicates.txt')\n",
    ")"
   ]
  }
 ],
 "metadata": {
  "kernelspec": {
   "display_name": "Python 3",
   "language": "python",
   "name": "python3"
  },
  "language_info": {
   "codemirror_mode": {
    "name": "ipython",
    "version": 3
   },
   "file_extension": ".py",
   "mimetype": "text/x-python",
   "name": "python",
   "nbconvert_exporter": "python",
   "pygments_lexer": "ipython3",
   "version": "3.12.4"
  }
 },
 "nbformat": 4,
 "nbformat_minor": 2
}
